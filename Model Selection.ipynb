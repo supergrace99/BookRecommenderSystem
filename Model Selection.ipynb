{
 "metadata": {
  "language_info": {
   "codemirror_mode": {
    "name": "ipython",
    "version": 3
   },
   "file_extension": ".py",
   "mimetype": "text/x-python",
   "name": "python",
   "nbconvert_exporter": "python",
   "pygments_lexer": "ipython3",
   "version": "3.8.5-final"
  },
  "orig_nbformat": 2,
  "kernelspec": {
   "name": "python3",
   "display_name": "Python 3.8.5 64-bit ('miniconda3': virtualenv)",
   "metadata": {
    "interpreter": {
     "hash": "569d6b7e9215e11aba41c6454007e5c1b78bad7df09dab765d8cf00362c40f03"
    }
   }
  }
 },
 "nbformat": 4,
 "nbformat_minor": 2,
 "cells": [
  {
   "cell_type": "code",
   "execution_count": 1,
   "metadata": {},
   "outputs": [],
   "source": [
    "import pandas as pd\n",
    "\n",
    "#Prepare data for models\n",
    "from surprise import Dataset, Reader\n",
    "\n",
    "#Seperate data into train and test set\n",
    "from surprise.model_selection.split import train_test_split\n",
    "\n",
    "#Model Selection\n",
    "from surprise.prediction_algorithms.baseline_only import BaselineOnly as Baseline\n",
    "from surprise.prediction_algorithms.knns import KNNBasic, KNNWithMeans, KNNWithZScore, KNNBaseline\n",
    "from surprise.prediction_algorithms.matrix_factorization import SVD, SVDpp, NMF\n",
    "from surprise.prediction_algorithms.slope_one import SlopeOne\n",
    "from surprise.prediction_algorithms.co_clustering import CoClustering\n",
    "\n",
    "#Model selection Metric (RMSE)\n",
    "from surprise.accuracy import rmse"
   ]
  },
  {
   "cell_type": "code",
   "execution_count": 2,
   "metadata": {},
   "outputs": [
    {
     "output_type": "stream",
     "name": "stderr",
     "text": [
      "/opt/miniconda3/lib/python3.8/site-packages/numpy/lib/arraysetops.py:580: FutureWarning: elementwise comparison failed; returning scalar instead, but in the future will perform elementwise comparison\n  mask |= (ar1 == a)\n"
     ]
    }
   ],
   "source": [
    "df = pd.read_csv(\"/Users/grace/Documents/Recommender System/Data/DataSet2.csv\", index_col=0)"
   ]
  },
  {
   "cell_type": "code",
   "execution_count": 3,
   "metadata": {},
   "outputs": [
    {
     "output_type": "execute_result",
     "data": {
      "text/plain": [
       "         user_id  book_id  rating\n",
       "0           2886        1       5\n",
       "1           6158        1       5\n",
       "2           3991        1       4\n",
       "3           5281        1       5\n",
       "4           5721        1       5\n",
       "...          ...      ...     ...\n",
       "5916161    35336    10000       4\n",
       "5916162    17999    10000       3\n",
       "5916163    49007    10000       4\n",
       "5916164    43319    10000       5\n",
       "5916165    48281    10000       4\n",
       "\n",
       "[5563131 rows x 3 columns]"
      ],
      "text/html": "<div>\n<style scoped>\n    .dataframe tbody tr th:only-of-type {\n        vertical-align: middle;\n    }\n\n    .dataframe tbody tr th {\n        vertical-align: top;\n    }\n\n    .dataframe thead th {\n        text-align: right;\n    }\n</style>\n<table border=\"1\" class=\"dataframe\">\n  <thead>\n    <tr style=\"text-align: right;\">\n      <th></th>\n      <th>user_id</th>\n      <th>book_id</th>\n      <th>rating</th>\n    </tr>\n  </thead>\n  <tbody>\n    <tr>\n      <th>0</th>\n      <td>2886</td>\n      <td>1</td>\n      <td>5</td>\n    </tr>\n    <tr>\n      <th>1</th>\n      <td>6158</td>\n      <td>1</td>\n      <td>5</td>\n    </tr>\n    <tr>\n      <th>2</th>\n      <td>3991</td>\n      <td>1</td>\n      <td>4</td>\n    </tr>\n    <tr>\n      <th>3</th>\n      <td>5281</td>\n      <td>1</td>\n      <td>5</td>\n    </tr>\n    <tr>\n      <th>4</th>\n      <td>5721</td>\n      <td>1</td>\n      <td>5</td>\n    </tr>\n    <tr>\n      <th>...</th>\n      <td>...</td>\n      <td>...</td>\n      <td>...</td>\n    </tr>\n    <tr>\n      <th>5916161</th>\n      <td>35336</td>\n      <td>10000</td>\n      <td>4</td>\n    </tr>\n    <tr>\n      <th>5916162</th>\n      <td>17999</td>\n      <td>10000</td>\n      <td>3</td>\n    </tr>\n    <tr>\n      <th>5916163</th>\n      <td>49007</td>\n      <td>10000</td>\n      <td>4</td>\n    </tr>\n    <tr>\n      <th>5916164</th>\n      <td>43319</td>\n      <td>10000</td>\n      <td>5</td>\n    </tr>\n    <tr>\n      <th>5916165</th>\n      <td>48281</td>\n      <td>10000</td>\n      <td>4</td>\n    </tr>\n  </tbody>\n</table>\n<p>5563131 rows × 3 columns</p>\n</div>"
     },
     "metadata": {},
     "execution_count": 3
    }
   ],
   "source": [
    "df"
   ]
  },
  {
   "cell_type": "code",
   "execution_count": 4,
   "metadata": {},
   "outputs": [],
   "source": [
    "#Prepare data for models\n",
    "reader = Reader(rating_scale=(1,5))\n",
    "data = Dataset.load_from_df(df, reader)"
   ]
  },
  {
   "cell_type": "code",
   "execution_count": 5,
   "metadata": {},
   "outputs": [],
   "source": [
    "#create training set and test set\n",
    "train_set, test_set = train_test_split(data, test_size=0.2, random_state=0)"
   ]
  },
  {
   "cell_type": "code",
   "execution_count": 6,
   "metadata": {},
   "outputs": [
    {
     "output_type": "stream",
     "name": "stdout",
     "text": [
      "Estimating biases using als...\n",
      "RMSE: 0.8541\n",
      "Done!\n"
     ]
    }
   ],
   "source": [
    "#USED AS BASELINE AGAINST ALL OTHER MODELS\n",
    "algo1 = Baseline()\n",
    "algo1.fit(train_set)\n",
    "prediction1 = algo1.test(test_set)\n",
    "baseline_rmse = rmse(prediction1) #0.8541\n",
    "print(\"Done!\")"
   ]
  },
  {
   "source": [
    "#FOR KNN inspired algorithms\n",
    "sim_options = {\n",
    "    \"name\": \"msd\",\n",
    "    \"user_based\": False,  # Compute  similarities between items (books as features), in an attempt to solve dimensionality due to there being fewer books than users\n",
    "}"
   ],
   "cell_type": "code",
   "metadata": {},
   "execution_count": 7,
   "outputs": []
  },
  {
   "source": [
    "algo2 = KNNBasic(sim_options=sim_options)\n",
    "algo2.fit(train_set)\n",
    "prediction2 = algo2.test(test_set)\n",
    "KNNBasic_rmse  = rmse(prediction2) #0.8631\n",
    "\n"
   ],
   "cell_type": "code",
   "metadata": {},
   "execution_count": 8,
   "outputs": [
    {
     "output_type": "stream",
     "name": "stdout",
     "text": [
      "Computing the msd similarity matrix...\n",
      "Done computing similarity matrix.\n",
      "RMSE: 0.8631\n"
     ]
    }
   ]
  },
  {
   "source": [
    "algo3 = KNNWithMeans(sim_options=sim_options)\n",
    "algo3.fit(train_set)\n",
    "predictions3 = algo3.test(test_set)\n",
    "KNNWithMeans_rmse =rmse(predictions3)#0.8438"
   ],
   "cell_type": "code",
   "metadata": {},
   "execution_count": 9,
   "outputs": [
    {
     "output_type": "stream",
     "name": "stdout",
     "text": [
      "Computing the msd similarity matrix...\n",
      "Done computing similarity matrix.\n",
      "RMSE: 0.8438\n"
     ]
    }
   ]
  },
  {
   "source": [
    "algo4 = KNNBaseline(sim_options=sim_options)\n",
    "algo4.fit(train_set)\n",
    "predicitions4 = algo4.test(test_set)\n",
    "KNNBaseline_rmse = rmse(predicitions4)#0.8401"
   ],
   "cell_type": "code",
   "metadata": {},
   "execution_count": 10,
   "outputs": [
    {
     "output_type": "stream",
     "name": "stdout",
     "text": [
      "Estimating biases using als...\n",
      "Computing the msd similarity matrix...\n",
      "Done computing similarity matrix.\n",
      "RMSE: 0.8401\n"
     ]
    }
   ]
  },
  {
   "source": [
    "algo5 = KNNWithZScore(sim_options=sim_options)\n",
    "algo5.fit(train_set)\n",
    "predictions5 = algo5.test(test_set)\n",
    "KNNWithZScore_rmse = rmse(predictions5) #0.8457"
   ],
   "cell_type": "code",
   "metadata": {},
   "execution_count": 11,
   "outputs": [
    {
     "output_type": "stream",
     "name": "stdout",
     "text": [
      "Computing the msd similarity matrix...\n",
      "Done computing similarity matrix.\n",
      "RMSE: 0.8457\n"
     ]
    }
   ]
  },
  {
   "source": [
    "Matrix Factorization was considered to solve the issues I've been having with dimensionality"
   ],
   "cell_type": "markdown",
   "metadata": {}
  },
  {
   "cell_type": "code",
   "execution_count": 12,
   "metadata": {},
   "outputs": [
    {
     "output_type": "stream",
     "name": "stdout",
     "text": [
      "RMSE: 0.8292\n"
     ]
    }
   ],
   "source": [
    "algo6 =SVD() \n",
    "algo6.fit(train_set)\n",
    "predictions6 = algo6.test(test_set)\n",
    "SVD_rmse = rmse(predictions6) #0.8292"
   ]
  },
  {
   "cell_type": "code",
   "execution_count": 14,
   "metadata": {},
   "outputs": [
    {
     "output_type": "stream",
     "name": "stdout",
     "text": [
      "RMSE: 0.8622\n"
     ]
    }
   ],
   "source": [
    "algo8 = NMF()\n",
    "algo8.fit(train_set)\n",
    "predictions8 = algo8.test(test_set)\n",
    "NMF_rmse = rmse(predictions8) #0.8622"
   ]
  },
  {
   "cell_type": "code",
   "execution_count": 22,
   "metadata": {},
   "outputs": [
    {
     "output_type": "execute_result",
     "data": {
      "text/plain": [
       "                   RMSE\n",
       "SVD            0.829188\n",
       "KNNBaseline    0.840139\n",
       "KNNWithMean    0.843838\n",
       "KNNWithZScore  0.845705\n",
       "Baseline       0.854075\n",
       "NMF            0.862186\n",
       "KNNBasic       0.863087"
      ],
      "text/html": "<div>\n<style scoped>\n    .dataframe tbody tr th:only-of-type {\n        vertical-align: middle;\n    }\n\n    .dataframe tbody tr th {\n        vertical-align: top;\n    }\n\n    .dataframe thead th {\n        text-align: right;\n    }\n</style>\n<table border=\"1\" class=\"dataframe\">\n  <thead>\n    <tr style=\"text-align: right;\">\n      <th></th>\n      <th>RMSE</th>\n    </tr>\n  </thead>\n  <tbody>\n    <tr>\n      <th>SVD</th>\n      <td>0.829188</td>\n    </tr>\n    <tr>\n      <th>KNNBaseline</th>\n      <td>0.840139</td>\n    </tr>\n    <tr>\n      <th>KNNWithMean</th>\n      <td>0.843838</td>\n    </tr>\n    <tr>\n      <th>KNNWithZScore</th>\n      <td>0.845705</td>\n    </tr>\n    <tr>\n      <th>Baseline</th>\n      <td>0.854075</td>\n    </tr>\n    <tr>\n      <th>NMF</th>\n      <td>0.862186</td>\n    </tr>\n    <tr>\n      <th>KNNBasic</th>\n      <td>0.863087</td>\n    </tr>\n  </tbody>\n</table>\n</div>"
     },
     "metadata": {},
     "execution_count": 22
    }
   ],
   "source": [
    "algorithms = [\"Baseline\", \"KNNBasic\",\"KNNWithMean\", \"KNNBaseline\", \"KNNWithZScore\", \"SVD\", \"NMF\"]\n",
    "rmse = [baseline_rmse, KNNBasic_rmse, KNNWithMeans_rmse, KNNBaseline_rmse, KNNWithZScore_rmse, SVD_rmse, NMF_rmse]\n",
    "\n",
    "data_rmse = dict(zip(algorithms,rmse))\n",
    "pd.DataFrame.from_dict(data_rmse, orient='index',columns=[\"RMSE\"]).sort_values(by='RMSE')"
   ]
  },
  {
   "cell_type": "code",
   "execution_count": null,
   "metadata": {},
   "outputs": [],
   "source": []
  }
 ]
}