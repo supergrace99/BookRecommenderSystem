{
 "metadata": {
  "language_info": {
   "codemirror_mode": {
    "name": "ipython",
    "version": 3
   },
   "file_extension": ".py",
   "mimetype": "text/x-python",
   "name": "python",
   "nbconvert_exporter": "python",
   "pygments_lexer": "ipython3",
   "version": "3.8.5-final"
  },
  "orig_nbformat": 2,
  "kernelspec": {
   "name": "python3",
   "display_name": "Python 3.8.5 64-bit ('base': conda)",
   "metadata": {
    "interpreter": {
     "hash": "569d6b7e9215e11aba41c6454007e5c1b78bad7df09dab765d8cf00362c40f03"
    }
   }
  }
 },
 "nbformat": 4,
 "nbformat_minor": 2,
 "cells": [
  {
   "cell_type": "code",
   "execution_count": 1,
   "metadata": {},
   "outputs": [],
   "source": [
    "import pandas as pd\n",
    "\n",
    "#Prepare data for models\n",
    "from surprise import Dataset, Reader\n",
    "\n",
    "#Seperate data into train and test set\n",
    "from surprise.model_selection.split import train_test_split\n",
    "\n",
    "#Model Selection\n",
    "from surprise.prediction_algorithms.baseline_only import BaselineOnly as Baseline\n",
    "from surprise.prediction_algorithms.knns import KNNBasic, KNNWithMeans, KNNWithZScore, KNNBaseline\n",
    "from surprise.prediction_algorithms.matrix_factorization import SVD, SVDpp, NMF\n",
    "from surprise.prediction_algorithms.slope_one import SlopeOne\n",
    "from surprise.prediction_algorithms.co_clustering import CoClustering\n",
    "\n",
    "#Model selection Metric (RMSE)\n",
    "from surprise.accuracy import rmse"
   ]
  },
  {
   "cell_type": "code",
   "execution_count": 6,
   "metadata": {},
   "outputs": [
    {
     "output_type": "stream",
     "name": "stderr",
     "text": [
      "/opt/miniconda3/lib/python3.8/site-packages/numpy/lib/arraysetops.py:580: FutureWarning: elementwise comparison failed; returning scalar instead, but in the future will perform elementwise comparison\n  mask |= (ar1 == a)\n"
     ]
    }
   ],
   "source": [
    "df = pd.read_csv(\"/Users/grace/Documents/Recommender System/Data/DataSet.csv\", index_col=0)"
   ]
  },
  {
   "cell_type": "code",
   "execution_count": 3,
   "metadata": {},
   "outputs": [
    {
     "output_type": "execute_result",
     "data": {
      "text/plain": [
       "         user_id  book_id  rating\n",
       "0           2886        1       5\n",
       "1           6158        1       5\n",
       "2           3991        1       4\n",
       "3           5281        1       5\n",
       "4           5721        1       5\n",
       "...          ...      ...     ...\n",
       "5768283    30919     3826       5\n",
       "5768284    28383     3826       3\n",
       "5768285    47185     3826       3\n",
       "5768286    47930     3826       4\n",
       "5768287    43652     3826       4\n",
       "\n",
       "[4296130 rows x 3 columns]"
      ],
      "text/html": "<div>\n<style scoped>\n    .dataframe tbody tr th:only-of-type {\n        vertical-align: middle;\n    }\n\n    .dataframe tbody tr th {\n        vertical-align: top;\n    }\n\n    .dataframe thead th {\n        text-align: right;\n    }\n</style>\n<table border=\"1\" class=\"dataframe\">\n  <thead>\n    <tr style=\"text-align: right;\">\n      <th></th>\n      <th>user_id</th>\n      <th>book_id</th>\n      <th>rating</th>\n    </tr>\n  </thead>\n  <tbody>\n    <tr>\n      <th>0</th>\n      <td>2886</td>\n      <td>1</td>\n      <td>5</td>\n    </tr>\n    <tr>\n      <th>1</th>\n      <td>6158</td>\n      <td>1</td>\n      <td>5</td>\n    </tr>\n    <tr>\n      <th>2</th>\n      <td>3991</td>\n      <td>1</td>\n      <td>4</td>\n    </tr>\n    <tr>\n      <th>3</th>\n      <td>5281</td>\n      <td>1</td>\n      <td>5</td>\n    </tr>\n    <tr>\n      <th>4</th>\n      <td>5721</td>\n      <td>1</td>\n      <td>5</td>\n    </tr>\n    <tr>\n      <th>...</th>\n      <td>...</td>\n      <td>...</td>\n      <td>...</td>\n    </tr>\n    <tr>\n      <th>5768283</th>\n      <td>30919</td>\n      <td>3826</td>\n      <td>5</td>\n    </tr>\n    <tr>\n      <th>5768284</th>\n      <td>28383</td>\n      <td>3826</td>\n      <td>3</td>\n    </tr>\n    <tr>\n      <th>5768285</th>\n      <td>47185</td>\n      <td>3826</td>\n      <td>3</td>\n    </tr>\n    <tr>\n      <th>5768286</th>\n      <td>47930</td>\n      <td>3826</td>\n      <td>4</td>\n    </tr>\n    <tr>\n      <th>5768287</th>\n      <td>43652</td>\n      <td>3826</td>\n      <td>4</td>\n    </tr>\n  </tbody>\n</table>\n<p>4296130 rows × 3 columns</p>\n</div>"
     },
     "metadata": {},
     "execution_count": 3
    }
   ],
   "source": [
    "df"
   ]
  },
  {
   "cell_type": "code",
   "execution_count": 4,
   "metadata": {},
   "outputs": [],
   "source": [
    "#Prepare data for models\n",
    "reader = Reader(rating_scale=(1,5))\n",
    "data = Dataset.load_from_df(df, reader)"
   ]
  },
  {
   "cell_type": "code",
   "execution_count": 5,
   "metadata": {},
   "outputs": [],
   "source": [
    "#create training set and test set\n",
    "train_set, test_set = train_test_split(data, test_size=0.2, random_state=0)"
   ]
  },
  {
   "cell_type": "code",
   "execution_count": 6,
   "metadata": {},
   "outputs": [],
   "source": [
    "#Compare RMSE of Differnet Models\n",
    "\n",
    "algorithm = [Baseline(),KNNBasic(), KNNWithMeans(),KNNBaseline(), KNNWithZScore(),SVD(), SVDpp(), NMF(), SlopeOne(), CoClustering()]\n",
    "\n",
    "algorith_names = [\"Baseline\", \"KNNBasic\", \"KNNWithMean\", \"KNNBaseline\", \"KNNWithZScore\", \"SVD\", \"SVDpp\",\"NMF\", \"SlopeOne\", \"CoClustering\"]\n",
    "\n",
    "MSE = []"
   ]
  },
  {
   "cell_type": "code",
   "execution_count": 6,
   "metadata": {},
   "outputs": [
    {
     "output_type": "stream",
     "name": "stdout",
     "text": [
      "Estimating biases using als...\n",
      "RMSE: 0.8686\n",
      "Done!\n"
     ]
    }
   ],
   "source": [
    "#USED AS BASELINE AGAINST ALL OTHER MODELS\n",
    "algo1 = Baseline()\n",
    "algo1.fit(train_set)\n",
    "prediction1 = algo1.test(test_set)\n",
    "baseline_rmse = rmse(prediction1) #0.8686\n",
    "print(\"Done!\")"
   ]
  },
  {
   "source": [
    "#FOR KNN inspired algorithms\n",
    "sim_options = {\n",
    "    \"name\": \"msd\",\n",
    "    \"user_based\": False,  # Compute  similarities between items (books as features), in an attempt to solve dimensionality due to there being fewer books than users\n",
    "}"
   ],
   "cell_type": "code",
   "metadata": {},
   "execution_count": 19,
   "outputs": []
  },
  {
   "source": [
    "algo2 = KNNBasic(sim_options=sim_options)\n",
    "algo2.fit(train_set)\n",
    "prediction2 = algo2.test(test_set)\n",
    "KNNBasic_rmse  = rmse(prediction2) #0.8740\n",
    "\n"
   ],
   "cell_type": "code",
   "metadata": {},
   "execution_count": 7,
   "outputs": [
    {
     "output_type": "stream",
     "name": "stdout",
     "text": [
      "Computing the msd similarity matrix...\n",
      "Done computing similarity matrix.\n",
      "RMSE: 0.8740\n"
     ]
    }
   ]
  },
  {
   "source": [
    "algo3 = KNNWithMeans(sim_options=sim_options)\n",
    "algo3.fit(train_set)\n",
    "predictions3 = algo3.test(test_set)\n",
    "KNNWithMeans_rmse =rmse(predictions3)#0.8518"
   ],
   "cell_type": "code",
   "metadata": {},
   "execution_count": 8,
   "outputs": [
    {
     "output_type": "stream",
     "name": "stdout",
     "text": [
      "Computing the msd similarity matrix...\n",
      "Done computing similarity matrix.\n",
      "RMSE: 0.8518\n"
     ]
    }
   ]
  },
  {
   "source": [
    "algo4 = KNNBaseline(sim_options=sim_options)\n",
    "algo4.fit(train_set)\n",
    "predicitions4 = algo4.test(test_set)\n",
    "KNNBaseline_rmse = rmse(predicitions4)#0.8494"
   ],
   "cell_type": "code",
   "metadata": {},
   "execution_count": 9,
   "outputs": [
    {
     "output_type": "stream",
     "name": "stdout",
     "text": [
      "Estimating biases using als...\n",
      "Computing the msd similarity matrix...\n",
      "Done computing similarity matrix.\n",
      "RMSE: 0.8494\n"
     ]
    }
   ]
  },
  {
   "source": [
    "algo5 = KNNWithZScore(sim_options=sim_options)\n",
    "algo5.fit(train_set)\n",
    "predictions5 = algo5.test(test_set)\n",
    "KNNWithZScore_rmse = rmse(predictions5) #0.8531"
   ],
   "cell_type": "code",
   "metadata": {},
   "execution_count": 10,
   "outputs": [
    {
     "output_type": "stream",
     "name": "stdout",
     "text": [
      "Computing the msd similarity matrix...\n",
      "Done computing similarity matrix.\n",
      "RMSE: 0.8531\n"
     ]
    }
   ]
  },
  {
   "source": [
    "Matrix Factorization was considered to solve the issues I've been having with dimensionality"
   ],
   "cell_type": "markdown",
   "metadata": {}
  },
  {
   "cell_type": "code",
   "execution_count": 9,
   "metadata": {},
   "outputs": [
    {
     "output_type": "stream",
     "name": "stdout",
     "text": [
      "RMSE: 0.8377\n"
     ]
    }
   ],
   "source": [
    "algo6 =SVD() \n",
    "algo6.fit(train_set)\n",
    "predictions6 = algo6.test(test_set)\n",
    "SVD_rmse = rmse(predictions6) #0.8377"
   ]
  },
  {
   "cell_type": "code",
   "execution_count": 13,
   "metadata": {},
   "outputs": [
    {
     "output_type": "error",
     "ename": "KeyboardInterrupt",
     "evalue": "",
     "traceback": [
      "\u001b[0;31m---------------------------------------------------------------------------\u001b[0m",
      "\u001b[0;31mKeyboardInterrupt\u001b[0m                         Traceback (most recent call last)",
      "\u001b[0;32m<ipython-input-13-988f124571ff>\u001b[0m in \u001b[0;36m<module>\u001b[0;34m\u001b[0m\n\u001b[1;32m      1\u001b[0m \u001b[0malgo7\u001b[0m \u001b[0;34m=\u001b[0m \u001b[0mSVDpp\u001b[0m\u001b[0;34m(\u001b[0m\u001b[0;34m)\u001b[0m\u001b[0;34m\u001b[0m\u001b[0;34m\u001b[0m\u001b[0m\n\u001b[0;32m----> 2\u001b[0;31m \u001b[0malgo7\u001b[0m\u001b[0;34m.\u001b[0m\u001b[0mfit\u001b[0m\u001b[0;34m(\u001b[0m\u001b[0mtrain_set\u001b[0m\u001b[0;34m)\u001b[0m\u001b[0;34m\u001b[0m\u001b[0;34m\u001b[0m\u001b[0m\n\u001b[0m\u001b[1;32m      3\u001b[0m \u001b[0mpredictions7\u001b[0m \u001b[0;34m=\u001b[0m \u001b[0malgo7\u001b[0m\u001b[0;34m.\u001b[0m\u001b[0mtest\u001b[0m\u001b[0;34m(\u001b[0m\u001b[0mtest_set\u001b[0m\u001b[0;34m)\u001b[0m\u001b[0;34m\u001b[0m\u001b[0;34m\u001b[0m\u001b[0m\n\u001b[1;32m      4\u001b[0m \u001b[0mSVDpp_rmse\u001b[0m \u001b[0;34m=\u001b[0m \u001b[0mrmse\u001b[0m\u001b[0;34m(\u001b[0m\u001b[0mpredictions7\u001b[0m\u001b[0;34m)\u001b[0m\u001b[0;34m\u001b[0m\u001b[0;34m\u001b[0m\u001b[0m\n",
      "\u001b[0;32m/opt/miniconda3/lib/python3.8/site-packages/surprise/prediction_algorithms/matrix_factorization.pyx\u001b[0m in \u001b[0;36msurprise.prediction_algorithms.matrix_factorization.SVDpp.fit\u001b[0;34m()\u001b[0m\n",
      "\u001b[0;32m/opt/miniconda3/lib/python3.8/site-packages/surprise/prediction_algorithms/matrix_factorization.pyx\u001b[0m in \u001b[0;36msurprise.prediction_algorithms.matrix_factorization.SVDpp.sgd\u001b[0;34m()\u001b[0m\n",
      "\u001b[0;32m/opt/miniconda3/lib/python3.8/site-packages/surprise/trainset.py\u001b[0m in \u001b[0;36mall_ratings\u001b[0;34m(self)\u001b[0m\n\u001b[1;32m    187\u001b[0m         \u001b[0;32mfor\u001b[0m \u001b[0mu\u001b[0m\u001b[0;34m,\u001b[0m \u001b[0mu_ratings\u001b[0m \u001b[0;32min\u001b[0m \u001b[0miteritems\u001b[0m\u001b[0;34m(\u001b[0m\u001b[0mself\u001b[0m\u001b[0;34m.\u001b[0m\u001b[0mur\u001b[0m\u001b[0;34m)\u001b[0m\u001b[0;34m:\u001b[0m\u001b[0;34m\u001b[0m\u001b[0;34m\u001b[0m\u001b[0m\n\u001b[1;32m    188\u001b[0m             \u001b[0;32mfor\u001b[0m \u001b[0mi\u001b[0m\u001b[0;34m,\u001b[0m \u001b[0mr\u001b[0m \u001b[0;32min\u001b[0m \u001b[0mu_ratings\u001b[0m\u001b[0;34m:\u001b[0m\u001b[0;34m\u001b[0m\u001b[0;34m\u001b[0m\u001b[0m\n\u001b[0;32m--> 189\u001b[0;31m                 \u001b[0;32myield\u001b[0m \u001b[0mu\u001b[0m\u001b[0;34m,\u001b[0m \u001b[0mi\u001b[0m\u001b[0;34m,\u001b[0m \u001b[0mr\u001b[0m\u001b[0;34m\u001b[0m\u001b[0;34m\u001b[0m\u001b[0m\n\u001b[0m\u001b[1;32m    190\u001b[0m \u001b[0;34m\u001b[0m\u001b[0m\n\u001b[1;32m    191\u001b[0m     \u001b[0;32mdef\u001b[0m \u001b[0mbuild_testset\u001b[0m\u001b[0;34m(\u001b[0m\u001b[0mself\u001b[0m\u001b[0;34m)\u001b[0m\u001b[0;34m:\u001b[0m\u001b[0;34m\u001b[0m\u001b[0;34m\u001b[0m\u001b[0m\n",
      "\u001b[0;31mKeyboardInterrupt\u001b[0m: "
     ]
    }
   ],
   "source": [
    "algo7 = SVDpp()\n",
    "algo7.fit(train_set)\n",
    "predictions7 = algo7.test(test_set)\n",
    "SVDpp_rmse = rmse(predictions7)"
   ]
  },
  {
   "cell_type": "code",
   "execution_count": 12,
   "metadata": {},
   "outputs": [
    {
     "output_type": "stream",
     "name": "stdout",
     "text": [
      "RMSE: 0.8759\n"
     ]
    }
   ],
   "source": [
    "algo8 = NMF()\n",
    "algo8.fit(train_set)\n",
    "predictions8 = algo8.test(test_set)\n",
    "NMF_rmse = rmse(predictions8) #0.8759"
   ]
  },
  {
   "cell_type": "code",
   "execution_count": null,
   "metadata": {},
   "outputs": [],
   "source": [
    "algo9 = SlopeOne()\n",
    "algo9.fit(train_set)\n",
    "predictions9 = algo9.test(test_set)\n",
    "SlopeOne_rmse = rmse(predictions9)"
   ]
  },
  {
   "cell_type": "code",
   "execution_count": null,
   "metadata": {},
   "outputs": [],
   "source": [
    "algo10 = CoClustering()\n",
    "algo10.fit(train_set)\n",
    "predictions10 = algo10.test(test_set)\n",
    "CoClustering_rmse = rmse(predictions10)"
   ]
  },
  {
   "cell_type": "code",
   "execution_count": null,
   "metadata": {},
   "outputs": [],
   "source": []
  }
 ]
}