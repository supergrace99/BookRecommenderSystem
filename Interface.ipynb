{
 "metadata": {
  "language_info": {
   "codemirror_mode": {
    "name": "ipython",
    "version": 3
   },
   "file_extension": ".py",
   "mimetype": "text/x-python",
   "name": "python",
   "nbconvert_exporter": "python",
   "pygments_lexer": "ipython3",
   "version": "3.8.5-final"
  },
  "orig_nbformat": 2,
  "kernelspec": {
   "name": "python3",
   "display_name": "Python 3.8.5 64-bit ('base': conda)",
   "metadata": {
    "interpreter": {
     "hash": "569d6b7e9215e11aba41c6454007e5c1b78bad7df09dab765d8cf00362c40f03"
    }
   }
  }
 },
 "nbformat": 4,
 "nbformat_minor": 2,
 "cells": [
  {
   "cell_type": "code",
   "execution_count": 1,
   "metadata": {},
   "outputs": [
    {
     "output_type": "stream",
     "name": "stderr",
     "text": [
      "/opt/miniconda3/lib/python3.8/site-packages/numpy/lib/arraysetops.py:580: FutureWarning: elementwise comparison failed; returning scalar instead, but in the future will perform elementwise comparison\n  mask |= (ar1 == a)\n"
     ]
    }
   ],
   "source": [
    "#PLEASE RUN THIS PRIOR TO USE OF THE RECOMMENDER SYSTEM< NO USER INPUT REQUIRED\n",
    "\n",
    "import pandas as pd\n",
    "import numpy as np\n",
    "\n",
    "#Prepare data for models\n",
    "from surprise import Dataset, Reader\n",
    "\n",
    "#Seperate data into train and test set\n",
    "from surprise.model_selection.split import train_test_split\n",
    "\n",
    "#Selected Model\n",
    "from surprise.prediction_algorithms.matrix_factorization import SVD\n",
    "\n",
    "#Import all relevant functions\n",
    "from Recommender import book_search, your_profile, clear_all, clear_last, recommender\n",
    "\n",
    "#Relevant DataFrames requried \n",
    "df = pd.read_csv(\"/Users/grace/Documents/Recommender System/Data/DataSet.csv\", index_col=0)\n",
    "book_list = pd.read_csv(\"/Users/grace/Documents/Recommender System/Data/book_list.csv\")\n",
    "\n",
    "#Empyty List required to insert user data\n",
    "profile = []\n",
    "\n",
    "#Algorithm to be used based on model selection and parameter tuning conducted\n",
    "algorithm = SVD(reg_all=0.03, lr_all=0.006)\n"
   ]
  },
  {
   "source": [
    "To use this recommender system, user will be required to input the book id of past books read and their personal rating of the book. \n",
    "\n",
    "1. To determine the book id of the book, user may use the book_search function. \n",
    "\n",
    "2. To input the users book rating, please run the your_profile function to input each book individually.\n",
    "\n",
    "3. Should the input be incorrect the clear_all function is available to remove the last input the user has made.\n",
    "\n",
    "4. Once user has completed rating all books the user wants the recommender system to base their recommendations on, please run the     recommender function\n",
    "\n",
    "5. to retry this, please use the clear_all function to clear all past inputs."
   ],
   "cell_type": "markdown",
   "metadata": {}
  },
  {
   "cell_type": "code",
   "execution_count": 84,
   "metadata": {},
   "outputs": [
    {
     "output_type": "stream",
     "name": "stdout",
     "text": [
      "Do you have the title of the book? Type T if true!\n",
      "T / F ?\n",
      "Do you know the author of this book? \n"
     ]
    },
    {
     "output_type": "execute_result",
     "data": {
      "text/plain": [
       "  book_id                    title                           authors\n",
       "0     852  WHEN BREATH BECOMES AIR  PAUL KALANITHI, ABRAHAM VERGHESE"
      ],
      "text/html": "<div>\n<style scoped>\n    .dataframe tbody tr th:only-of-type {\n        vertical-align: middle;\n    }\n\n    .dataframe tbody tr th {\n        vertical-align: top;\n    }\n\n    .dataframe thead th {\n        text-align: right;\n    }\n</style>\n<table border=\"1\" class=\"dataframe\">\n  <thead>\n    <tr style=\"text-align: right;\">\n      <th></th>\n      <th>book_id</th>\n      <th>title</th>\n      <th>authors</th>\n    </tr>\n  </thead>\n  <tbody>\n    <tr>\n      <th>0</th>\n      <td>852</td>\n      <td>WHEN BREATH BECOMES AIR</td>\n      <td>PAUL KALANITHI, ABRAHAM VERGHESE</td>\n    </tr>\n  </tbody>\n</table>\n</div>"
     },
     "metadata": {},
     "execution_count": 84
    }
   ],
   "source": [
    "#Search for the books specific book id through the author of the boook or keywords from the books title\n",
    "book_search(book_list)"
   ]
  },
  {
   "cell_type": "code",
   "execution_count": 89,
   "metadata": {},
   "outputs": [
    {
     "output_type": "stream",
     "name": "stdout",
     "text": [
      "Please input the book id of the book to be rated\n",
      "\n",
      "Please rate the book on a scale of 1-5\n",
      "\n",
      "This is the book that you are rating: \n",
      "When Breath Becomes Air\n",
      "This is the rating you gave the book: 5\n",
      "\n",
      "Should this be incorrect please use the delete function! \n",
      "\n",
      "If you have more books to add, re-run this function\n"
     ]
    }
   ],
   "source": [
    "#Input the book id of the book to be rated and your rating of the book. Re-run this function to add the next book to be rated\n",
    "your_profile(book_list, profile)"
   ]
  },
  {
   "cell_type": "code",
   "execution_count": 91,
   "metadata": {},
   "outputs": [
    {
     "output_type": "execute_result",
     "data": {
      "text/plain": [
       "[[106058, 127, 3],\n",
       " [106058, 193, 4],\n",
       " [106058, 211, 3],\n",
       " [106058, 892, 5],\n",
       " [106058, 1344, 4],\n",
       " [106058, 1082, 4],\n",
       " [106058, 649, 4],\n",
       " [106058, 300, 5],\n",
       " [106058, 1613, 5],\n",
       " [106058, 780, 1],\n",
       " [106058, 1010, 1],\n",
       " [106058, 1788, 1],\n",
       " [106058, 2, 1],\n",
       " [106058, 490, 1],\n",
       " [106058, 132, 5],\n",
       " [106058, 114, 5],\n",
       " [106058, 450, 1],\n",
       " [106058, 13, 5],\n",
       " [106058, 14, 5],\n",
       " [106058, 852, 5]]"
      ]
     },
     "metadata": {},
     "execution_count": 91
    }
   ],
   "source": [
    "profile"
   ]
  },
  {
   "cell_type": "code",
   "execution_count": 88,
   "metadata": {},
   "outputs": [],
   "source": [
    "#Should you have made a mistake, uncomment this fuction to remove the last input made\n",
    "#clear_last(profile)"
   ]
  },
  {
   "cell_type": "code",
   "execution_count": 90,
   "metadata": {},
   "outputs": [
    {
     "output_type": "execute_result",
     "data": {
      "text/plain": [
       "                                                  Title  \\\n",
       "1233             Queen of Shadows (Throne of Glass, #4)   \n",
       "562   Batman: The Dark Knight Returns (The Dark Knig...   \n",
       "2483                   The Kindly Ones (The Sandman #9)   \n",
       "1789                              Wicked: The Grimmerie   \n",
       "2484                       Worlds' End (The Sandman #8)   \n",
       "1277  A Court of Mist and Fury (A Court of Thorns an...   \n",
       "2396                     A Game of You (The Sandman #5)   \n",
       "1799                  The Doll's House (The Sandman #2)   \n",
       "2127                   Season of Mists (The Sandman #4)   \n",
       "1007                 Heir of Fire (Throne of Glass, #3)   \n",
       "457       Clockwork Princess (The Infernal Devices, #3)   \n",
       "111                                Tuesdays with Morrie   \n",
       "2437                       Brief Lives (The Sandman #7)   \n",
       "840                             When Breath Becomes Air   \n",
       "744             Crown of Midnight (Throne of Glass, #2)   \n",
       "1807                    Blood Song (Raven's Shadow, #1)   \n",
       "850      Words of Radiance (The Stormlight Archive, #2)   \n",
       "1811                              Someone Knows My Name   \n",
       "1321                   The Warded Man (Demon Cycle, #1)   \n",
       "2439            Fables and Reflections (The Sandman #6)   \n",
       "\n",
       "                                                Authors Est_Rating  \n",
       "1233                                      Sarah J. Maas    4.25156  \n",
       "562             Frank Miller, Klaus Janson, Lynn Varley    4.22308  \n",
       "2483  Neil Gaiman, Marc Hempel, Richard Case, D'Isra...    4.12453  \n",
       "1789  David Cote, Stephen Schwartz, Joan Marcus, Win...    4.09948  \n",
       "2484  Neil Gaiman, Mike Allred, Gary Amaro, Mark Buc...    4.08038  \n",
       "1277                                      Sarah J. Maas    4.07845  \n",
       "2396  Neil Gaiman, Shawn McManus, Colleen Doran, Bry...    4.06209  \n",
       "1799  Neil Gaiman, Steve Parkhouse, Chris Bachalo, M...    4.05677  \n",
       "2127  Neil Gaiman, Matt Wagner, George Pratt, Dick G...    4.05268  \n",
       "1007                                      Sarah J. Maas    4.03229  \n",
       "457                                     Cassandra Clare    4.02128  \n",
       "111                          Mitch Albom, Saulius Dagys    4.01366  \n",
       "2437  Neil Gaiman, Jill Thompson, Vince Locke, Peter...    4.01102  \n",
       "840                    Paul Kalanithi, Abraham Verghese    3.99772  \n",
       "744                                       Sarah J. Maas    3.98332  \n",
       "1807                                      Anthony  Ryan    3.97896  \n",
       "850                                   Brandon Sanderson    3.97103  \n",
       "1811                                      Lawrence Hill    3.96979  \n",
       "1321                                     Peter V. Brett    3.96791  \n",
       "2439  Neil Gaiman, Bryan Talbot, Stan Woch, P. Craig...    3.96416  "
      ],
      "text/html": "<div>\n<style scoped>\n    .dataframe tbody tr th:only-of-type {\n        vertical-align: middle;\n    }\n\n    .dataframe tbody tr th {\n        vertical-align: top;\n    }\n\n    .dataframe thead th {\n        text-align: right;\n    }\n</style>\n<table border=\"1\" class=\"dataframe\">\n  <thead>\n    <tr style=\"text-align: right;\">\n      <th></th>\n      <th>Title</th>\n      <th>Authors</th>\n      <th>Est_Rating</th>\n    </tr>\n  </thead>\n  <tbody>\n    <tr>\n      <th>1233</th>\n      <td>Queen of Shadows (Throne of Glass, #4)</td>\n      <td>Sarah J. Maas</td>\n      <td>4.25156</td>\n    </tr>\n    <tr>\n      <th>562</th>\n      <td>Batman: The Dark Knight Returns (The Dark Knig...</td>\n      <td>Frank Miller, Klaus Janson, Lynn Varley</td>\n      <td>4.22308</td>\n    </tr>\n    <tr>\n      <th>2483</th>\n      <td>The Kindly Ones (The Sandman #9)</td>\n      <td>Neil Gaiman, Marc Hempel, Richard Case, D'Isra...</td>\n      <td>4.12453</td>\n    </tr>\n    <tr>\n      <th>1789</th>\n      <td>Wicked: The Grimmerie</td>\n      <td>David Cote, Stephen Schwartz, Joan Marcus, Win...</td>\n      <td>4.09948</td>\n    </tr>\n    <tr>\n      <th>2484</th>\n      <td>Worlds' End (The Sandman #8)</td>\n      <td>Neil Gaiman, Mike Allred, Gary Amaro, Mark Buc...</td>\n      <td>4.08038</td>\n    </tr>\n    <tr>\n      <th>1277</th>\n      <td>A Court of Mist and Fury (A Court of Thorns an...</td>\n      <td>Sarah J. Maas</td>\n      <td>4.07845</td>\n    </tr>\n    <tr>\n      <th>2396</th>\n      <td>A Game of You (The Sandman #5)</td>\n      <td>Neil Gaiman, Shawn McManus, Colleen Doran, Bry...</td>\n      <td>4.06209</td>\n    </tr>\n    <tr>\n      <th>1799</th>\n      <td>The Doll's House (The Sandman #2)</td>\n      <td>Neil Gaiman, Steve Parkhouse, Chris Bachalo, M...</td>\n      <td>4.05677</td>\n    </tr>\n    <tr>\n      <th>2127</th>\n      <td>Season of Mists (The Sandman #4)</td>\n      <td>Neil Gaiman, Matt Wagner, George Pratt, Dick G...</td>\n      <td>4.05268</td>\n    </tr>\n    <tr>\n      <th>1007</th>\n      <td>Heir of Fire (Throne of Glass, #3)</td>\n      <td>Sarah J. Maas</td>\n      <td>4.03229</td>\n    </tr>\n    <tr>\n      <th>457</th>\n      <td>Clockwork Princess (The Infernal Devices, #3)</td>\n      <td>Cassandra Clare</td>\n      <td>4.02128</td>\n    </tr>\n    <tr>\n      <th>111</th>\n      <td>Tuesdays with Morrie</td>\n      <td>Mitch Albom, Saulius Dagys</td>\n      <td>4.01366</td>\n    </tr>\n    <tr>\n      <th>2437</th>\n      <td>Brief Lives (The Sandman #7)</td>\n      <td>Neil Gaiman, Jill Thompson, Vince Locke, Peter...</td>\n      <td>4.01102</td>\n    </tr>\n    <tr>\n      <th>840</th>\n      <td>When Breath Becomes Air</td>\n      <td>Paul Kalanithi, Abraham Verghese</td>\n      <td>3.99772</td>\n    </tr>\n    <tr>\n      <th>744</th>\n      <td>Crown of Midnight (Throne of Glass, #2)</td>\n      <td>Sarah J. Maas</td>\n      <td>3.98332</td>\n    </tr>\n    <tr>\n      <th>1807</th>\n      <td>Blood Song (Raven's Shadow, #1)</td>\n      <td>Anthony  Ryan</td>\n      <td>3.97896</td>\n    </tr>\n    <tr>\n      <th>850</th>\n      <td>Words of Radiance (The Stormlight Archive, #2)</td>\n      <td>Brandon Sanderson</td>\n      <td>3.97103</td>\n    </tr>\n    <tr>\n      <th>1811</th>\n      <td>Someone Knows My Name</td>\n      <td>Lawrence Hill</td>\n      <td>3.96979</td>\n    </tr>\n    <tr>\n      <th>1321</th>\n      <td>The Warded Man (Demon Cycle, #1)</td>\n      <td>Peter V. Brett</td>\n      <td>3.96791</td>\n    </tr>\n    <tr>\n      <th>2439</th>\n      <td>Fables and Reflections (The Sandman #6)</td>\n      <td>Neil Gaiman, Bryan Talbot, Stan Woch, P. Craig...</td>\n      <td>3.96416</td>\n    </tr>\n  </tbody>\n</table>\n</div>"
     },
     "metadata": {},
     "execution_count": 90
    }
   ],
   "source": [
    "#Run this function to receive the top 20 books this recommendation system recommends that you read. Please allow this fucntion to take up to 15min to run\n",
    "\n",
    "recommender(profile, df, book_list, algorithm)"
   ]
  },
  {
   "cell_type": "code",
   "execution_count": 34,
   "metadata": {},
   "outputs": [],
   "source": [
    "#To Re-try, please clear all past inputs by uncommenting and running this function\n",
    "#clear_all(profile)"
   ]
  },
  {
   "source": [
    "As this recommender system was created through collaborative filtering, the more inputs the user makes the more accurate said receommender system will be, fewer inputs result in the recommender system making general recommendations to the user."
   ],
   "cell_type": "markdown",
   "metadata": {}
  }
 ]
}