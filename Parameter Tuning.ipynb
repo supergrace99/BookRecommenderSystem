{
 "metadata": {
  "language_info": {
   "codemirror_mode": {
    "name": "ipython",
    "version": 3
   },
   "file_extension": ".py",
   "mimetype": "text/x-python",
   "name": "python",
   "nbconvert_exporter": "python",
   "pygments_lexer": "ipython3",
   "version": "3.8.5-final"
  },
  "orig_nbformat": 2,
  "kernelspec": {
   "name": "python3",
   "display_name": "Python 3.8.5 64-bit ('base': conda)",
   "metadata": {
    "interpreter": {
     "hash": "569d6b7e9215e11aba41c6454007e5c1b78bad7df09dab765d8cf00362c40f03"
    }
   }
  }
 },
 "nbformat": 4,
 "nbformat_minor": 2,
 "cells": [
  {
   "cell_type": "code",
   "execution_count": 31,
   "metadata": {},
   "outputs": [],
   "source": [
    "import pandas as pd\n",
    "import numpy as np\n",
    "\n",
    "#Prepare data for models\n",
    "from surprise import Dataset, Reader\n",
    "\n",
    "#Seperate data into train and test set\n",
    "from surprise.model_selection.split import train_test_split\n",
    "\n",
    "#Selected Model\n",
    "from surprise.prediction_algorithms.matrix_factorization import SVD\n",
    "\n",
    "#Parameter Selection Metric (RMSE)\n",
    "from surprise.accuracy import rmse"
   ]
  },
  {
   "cell_type": "code",
   "execution_count": 2,
   "metadata": {},
   "outputs": [
    {
     "output_type": "stream",
     "name": "stderr",
     "text": [
      "/opt/miniconda3/lib/python3.8/site-packages/numpy/lib/arraysetops.py:580: FutureWarning: elementwise comparison failed; returning scalar instead, but in the future will perform elementwise comparison\n  mask |= (ar1 == a)\n"
     ]
    }
   ],
   "source": [
    "df = pd.read_csv(\"/Users/grace/Documents/Recommender System/Data/DataSet.csv\", index_col=0)"
   ]
  },
  {
   "cell_type": "code",
   "execution_count": 3,
   "metadata": {},
   "outputs": [
    {
     "output_type": "execute_result",
     "data": {
      "text/plain": [
       "         user_id  book_id  rating\n",
       "0           2886        1       5\n",
       "1           6158        1       5\n",
       "2           3991        1       4\n",
       "3           5281        1       5\n",
       "4           5721        1       5\n",
       "...          ...      ...     ...\n",
       "5768283    30919     3826       5\n",
       "5768284    28383     3826       3\n",
       "5768285    47185     3826       3\n",
       "5768286    47930     3826       4\n",
       "5768287    43652     3826       4\n",
       "\n",
       "[4296130 rows x 3 columns]"
      ],
      "text/html": "<div>\n<style scoped>\n    .dataframe tbody tr th:only-of-type {\n        vertical-align: middle;\n    }\n\n    .dataframe tbody tr th {\n        vertical-align: top;\n    }\n\n    .dataframe thead th {\n        text-align: right;\n    }\n</style>\n<table border=\"1\" class=\"dataframe\">\n  <thead>\n    <tr style=\"text-align: right;\">\n      <th></th>\n      <th>user_id</th>\n      <th>book_id</th>\n      <th>rating</th>\n    </tr>\n  </thead>\n  <tbody>\n    <tr>\n      <th>0</th>\n      <td>2886</td>\n      <td>1</td>\n      <td>5</td>\n    </tr>\n    <tr>\n      <th>1</th>\n      <td>6158</td>\n      <td>1</td>\n      <td>5</td>\n    </tr>\n    <tr>\n      <th>2</th>\n      <td>3991</td>\n      <td>1</td>\n      <td>4</td>\n    </tr>\n    <tr>\n      <th>3</th>\n      <td>5281</td>\n      <td>1</td>\n      <td>5</td>\n    </tr>\n    <tr>\n      <th>4</th>\n      <td>5721</td>\n      <td>1</td>\n      <td>5</td>\n    </tr>\n    <tr>\n      <th>...</th>\n      <td>...</td>\n      <td>...</td>\n      <td>...</td>\n    </tr>\n    <tr>\n      <th>5768283</th>\n      <td>30919</td>\n      <td>3826</td>\n      <td>5</td>\n    </tr>\n    <tr>\n      <th>5768284</th>\n      <td>28383</td>\n      <td>3826</td>\n      <td>3</td>\n    </tr>\n    <tr>\n      <th>5768285</th>\n      <td>47185</td>\n      <td>3826</td>\n      <td>3</td>\n    </tr>\n    <tr>\n      <th>5768286</th>\n      <td>47930</td>\n      <td>3826</td>\n      <td>4</td>\n    </tr>\n    <tr>\n      <th>5768287</th>\n      <td>43652</td>\n      <td>3826</td>\n      <td>4</td>\n    </tr>\n  </tbody>\n</table>\n<p>4296130 rows × 3 columns</p>\n</div>"
     },
     "metadata": {},
     "execution_count": 3
    }
   ],
   "source": [
    "df"
   ]
  },
  {
   "cell_type": "code",
   "execution_count": 4,
   "metadata": {},
   "outputs": [],
   "source": [
    "#Prepare data for models\n",
    "reader = Reader(rating_scale=(1,5))\n",
    "data = Dataset.load_from_df(df, reader)"
   ]
  },
  {
   "cell_type": "code",
   "execution_count": 5,
   "metadata": {},
   "outputs": [],
   "source": [
    "#create training set and test set\n",
    "train_set, test_set = train_test_split(data, test_size=0.2, random_state=0)"
   ]
  },
  {
   "cell_type": "code",
   "execution_count": 6,
   "metadata": {},
   "outputs": [
    {
     "output_type": "stream",
     "name": "stdout",
     "text": [
      "RMSE: 0.8372\n"
     ]
    }
   ],
   "source": [
    "# Baseline Model Selected\n",
    "algo6 =SVD() \n",
    "algo6.fit(train_set)\n",
    "predictions6 = algo6.test(test_set)\n",
    "SVD_rmse = rmse(predictions6) #0.8372"
   ]
  },
  {
   "cell_type": "code",
   "execution_count": 9,
   "metadata": {},
   "outputs": [
    {
     "output_type": "stream",
     "name": "stdout",
     "text": [
      "RMSE: 0.8735\n",
      "5\n",
      "RMSE: 0.8581\n",
      "10\n",
      "RMSE: 0.8437\n",
      "15\n",
      "RMSE: 0.8374\n",
      "20\n",
      "RMSE: 0.8386\n",
      "25\n",
      "RMSE: 0.8416\n",
      "30\n",
      "RMSE: 0.8453\n",
      "35\n"
     ]
    }
   ],
   "source": [
    "epochs = [5,10,15,20,25,30,35] #20 is best\n",
    "\n",
    "mse_epochs =[]\n",
    "\n",
    "for i in epochs:\n",
    "    alg = SVD(n_epochs=i)\n",
    "    alg.fit(train_set)\n",
    "    pred = alg.test(test_set)\n",
    "    epoch_mse = rmse(pred)\n",
    "    mse_epochs.append(epoch_mse)\n",
    "    print(i)"
   ]
  },
  {
   "cell_type": "code",
   "execution_count": 37,
   "metadata": {},
   "outputs": [
    {
     "output_type": "execute_result",
     "data": {
      "text/plain": [
       "   eppoch       mse\n",
       "3      20  0.837356\n",
       "4      25  0.838600\n",
       "5      30  0.841594\n",
       "2      15  0.843739\n",
       "6      35  0.845287\n",
       "1      10  0.858135\n",
       "0       5  0.873459"
      ],
      "text/html": "<div>\n<style scoped>\n    .dataframe tbody tr th:only-of-type {\n        vertical-align: middle;\n    }\n\n    .dataframe tbody tr th {\n        vertical-align: top;\n    }\n\n    .dataframe thead th {\n        text-align: right;\n    }\n</style>\n<table border=\"1\" class=\"dataframe\">\n  <thead>\n    <tr style=\"text-align: right;\">\n      <th></th>\n      <th>eppoch</th>\n      <th>mse</th>\n    </tr>\n  </thead>\n  <tbody>\n    <tr>\n      <th>3</th>\n      <td>20</td>\n      <td>0.837356</td>\n    </tr>\n    <tr>\n      <th>4</th>\n      <td>25</td>\n      <td>0.838600</td>\n    </tr>\n    <tr>\n      <th>5</th>\n      <td>30</td>\n      <td>0.841594</td>\n    </tr>\n    <tr>\n      <th>2</th>\n      <td>15</td>\n      <td>0.843739</td>\n    </tr>\n    <tr>\n      <th>6</th>\n      <td>35</td>\n      <td>0.845287</td>\n    </tr>\n    <tr>\n      <th>1</th>\n      <td>10</td>\n      <td>0.858135</td>\n    </tr>\n    <tr>\n      <th>0</th>\n      <td>5</td>\n      <td>0.873459</td>\n    </tr>\n  </tbody>\n</table>\n</div>"
     },
     "metadata": {},
     "execution_count": 37
    }
   ],
   "source": [
    "pd.DataFrame({\"eppoch\":epochs, \"mse\":mse_epochs}).sort_values(by=\"mse\") "
   ]
  },
  {
   "cell_type": "code",
   "execution_count": 40,
   "metadata": {},
   "outputs": [
    {
     "output_type": "stream",
     "name": "stdout",
     "text": [
      "RMSE: 0.8385\n",
      "0.005\n",
      "RMSE: 0.8377\n",
      "0.006\n",
      "RMSE: 0.8404\n",
      "0.007\n",
      "RMSE: 0.8430\n",
      "0.008\n"
     ]
    }
   ],
   "source": [
    "rate = [0.005,0.006,0.007,0.008] #0.005 or 0.006 is ideal\n",
    "mse_rate = []\n",
    "for i in rate:\n",
    "    alg=SVD(lr_all=i)\n",
    "    alg.fit(train_set)\n",
    "    pred = alg.test(test_set)\n",
    "    rmse_rate = rmse(pred)\n",
    "    mse_rate.append(rmse_rate)\n",
    "    print(i)\n",
    "    "
   ]
  },
  {
   "cell_type": "code",
   "execution_count": 42,
   "metadata": {},
   "outputs": [
    {
     "output_type": "stream",
     "name": "stdout",
     "text": [
      "RMSE: 0.8373\n",
      "0.02\n",
      "RMSE: 0.8366\n",
      "0.03\n",
      "RMSE: 0.8405\n",
      "0.04\n"
     ]
    }
   ],
   "source": [
    "reg = [0.02,0.03,0.04]\n",
    "mse_reg=[]\n",
    "\n",
    "for i in reg:\n",
    "    alg = SVD(reg_all=i)\n",
    "    alg.fit(train_set)\n",
    "    pred = alg.test(test_set)\n",
    "    mse_regs = rmse(pred)\n",
    "    mse_reg.append(mse_reg)\n",
    "    print(i)\n"
   ]
  },
  {
   "cell_type": "code",
   "execution_count": 43,
   "metadata": {},
   "outputs": [
    {
     "output_type": "stream",
     "name": "stdout",
     "text": [
      "RMSE: 0.8385\n",
      "0.02\n",
      "RMSE: 0.8315\n",
      "0.03\n",
      "RMSE: 0.8341\n",
      "0.04\n"
     ]
    }
   ],
   "source": [
    "reg = [0.02,0.03,0.04]\n",
    "mse_reg=[]\n",
    "\n",
    "for i in reg:\n",
    "    alg = SVD(reg_all=i, lr_all=0.006)\n",
    "    alg.fit(train_set)\n",
    "    pred = alg.test(test_set)\n",
    "    mse_regs = rmse(pred)\n",
    "    mse_reg.append(mse_reg)\n",
    "    print(i)"
   ]
  },
  {
   "cell_type": "code",
   "execution_count": null,
   "metadata": {},
   "outputs": [],
   "source": [
    "pd.DataFrame({\"rate\":rate, \"mse\":mse_rate}).sort_values(by=\"mse\")"
   ]
  },
  {
   "cell_type": "code",
   "execution_count": 44,
   "metadata": {},
   "outputs": [],
   "source": [
    "#SVD Model Selected\n",
    "algorithm = SVD(reg_all=0.03, lr_all=0.006)"
   ]
  },
  {
   "cell_type": "code",
   "execution_count": null,
   "metadata": {},
   "outputs": [],
   "source": []
  }
 ]
}