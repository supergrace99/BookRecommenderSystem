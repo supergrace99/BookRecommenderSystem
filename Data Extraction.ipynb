{
 "metadata": {
  "language_info": {
   "codemirror_mode": {
    "name": "ipython",
    "version": 3
   },
   "file_extension": ".py",
   "mimetype": "text/x-python",
   "name": "python",
   "nbconvert_exporter": "python",
   "pygments_lexer": "ipython3",
   "version": "3.8.5-final"
  },
  "orig_nbformat": 2,
  "kernelspec": {
   "name": "python3",
   "display_name": "Python 3.8.5 64-bit ('base': conda)",
   "metadata": {
    "interpreter": {
     "hash": "569d6b7e9215e11aba41c6454007e5c1b78bad7df09dab765d8cf00362c40f03"
    }
   }
  }
 },
 "nbformat": 4,
 "nbformat_minor": 2,
 "cells": [
  {
   "cell_type": "code",
   "execution_count": 1,
   "metadata": {},
   "outputs": [],
   "source": [
    "import pandas as pd\n",
    "import numpy as np"
   ]
  },
  {
   "cell_type": "code",
   "execution_count": 2,
   "metadata": {},
   "outputs": [],
   "source": [
    "# Load Data \n",
    "books_df = pd.read_csv(\"/Users/grace/Documents/Recommender System/Data/books.csv\")\n",
    "ratings_df = pd.read_csv(\"/Users/grace/Documents/Recommender System/Data/ratings.csv\")"
   ]
  },
  {
   "cell_type": "code",
   "execution_count": 3,
   "metadata": {},
   "outputs": [],
   "source": [
    "#Extract relevant columns from books_df\n",
    "book_cols = [\"book_id\", \"title\", \"authors\", \"language_code\"]\n",
    "books_df = books_df[book_cols]\n",
    "\n",
    "#As I only want book recommendations that are in Engligh, I will only extract books that are in English from #books_df\n",
    "\n",
    "eng_vals = [\"eng\", \"en-US\", \"en-GB\", \"en-CA\", \"en\"]\n",
    "\n",
    "eng_books = books_df[books_df[\"language_code\"].isin(eng_vals)]\n",
    "na_books = books_df[books_df['language_code'].isna()]\n",
    "\n",
    "books_df = eng_books.append(na_books)"
   ]
  },
  {
   "cell_type": "code",
   "execution_count": 4,
   "metadata": {},
   "outputs": [],
   "source": [
    "#Merge books_df with ratings_df\n",
    "data = books_df.merge(ratings_df, on = \"book_id\", how='left')"
   ]
  },
  {
   "cell_type": "code",
   "execution_count": 6,
   "metadata": {},
   "outputs": [],
   "source": [
    "data_cols = [\"user_id\",\"book_id\", \"rating\"]\n",
    "\n",
    "df = data[data_cols]"
   ]
  },
  {
   "cell_type": "code",
   "execution_count": 7,
   "metadata": {},
   "outputs": [
    {
     "output_type": "execute_result",
     "data": {
      "text/plain": [
       "         user_id  book_id  rating\n",
       "0           2886        1       5\n",
       "1           6158        1       5\n",
       "2           3991        1       4\n",
       "3           5281        1       5\n",
       "4           5721        1       5\n",
       "...          ...      ...     ...\n",
       "5916161    35336    10000       4\n",
       "5916162    17999    10000       3\n",
       "5916163    49007    10000       4\n",
       "5916164    43319    10000       5\n",
       "5916165    48281    10000       4\n",
       "\n",
       "[5916166 rows x 3 columns]"
      ],
      "text/html": "<div>\n<style scoped>\n    .dataframe tbody tr th:only-of-type {\n        vertical-align: middle;\n    }\n\n    .dataframe tbody tr th {\n        vertical-align: top;\n    }\n\n    .dataframe thead th {\n        text-align: right;\n    }\n</style>\n<table border=\"1\" class=\"dataframe\">\n  <thead>\n    <tr style=\"text-align: right;\">\n      <th></th>\n      <th>user_id</th>\n      <th>book_id</th>\n      <th>rating</th>\n    </tr>\n  </thead>\n  <tbody>\n    <tr>\n      <th>0</th>\n      <td>2886</td>\n      <td>1</td>\n      <td>5</td>\n    </tr>\n    <tr>\n      <th>1</th>\n      <td>6158</td>\n      <td>1</td>\n      <td>5</td>\n    </tr>\n    <tr>\n      <th>2</th>\n      <td>3991</td>\n      <td>1</td>\n      <td>4</td>\n    </tr>\n    <tr>\n      <th>3</th>\n      <td>5281</td>\n      <td>1</td>\n      <td>5</td>\n    </tr>\n    <tr>\n      <th>4</th>\n      <td>5721</td>\n      <td>1</td>\n      <td>5</td>\n    </tr>\n    <tr>\n      <th>...</th>\n      <td>...</td>\n      <td>...</td>\n      <td>...</td>\n    </tr>\n    <tr>\n      <th>5916161</th>\n      <td>35336</td>\n      <td>10000</td>\n      <td>4</td>\n    </tr>\n    <tr>\n      <th>5916162</th>\n      <td>17999</td>\n      <td>10000</td>\n      <td>3</td>\n    </tr>\n    <tr>\n      <th>5916163</th>\n      <td>49007</td>\n      <td>10000</td>\n      <td>4</td>\n    </tr>\n    <tr>\n      <th>5916164</th>\n      <td>43319</td>\n      <td>10000</td>\n      <td>5</td>\n    </tr>\n    <tr>\n      <th>5916165</th>\n      <td>48281</td>\n      <td>10000</td>\n      <td>4</td>\n    </tr>\n  </tbody>\n</table>\n<p>5916166 rows × 3 columns</p>\n</div>"
     },
     "metadata": {},
     "execution_count": 7
    }
   ],
   "source": [
    "df"
   ]
  },
  {
   "cell_type": "code",
   "execution_count": null,
   "metadata": {},
   "outputs": [],
   "source": [
    "df.to_csv(\"/Users/grace/Documents/Recommender System/Data/CleanedData.csv\")"
   ]
  }
 ]
}